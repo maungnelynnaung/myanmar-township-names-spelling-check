{
 "cells": [
  {
   "cell_type": "code",
   "execution_count": 2,
   "id": "8bb45e95",
   "metadata": {},
   "outputs": [
    {
     "name": "stdout",
     "output_type": "stream",
     "text": [
      "Enter Text Line: အင်စိန်မှ လာ၍ သာကတ သို့ သွားသည်။ \n",
      "Your Input: အင်စိန်မှ လာ၍ သာကတ သို့ သွားသည်။ \n",
      "Corrected Output: အင်းစိန် လာ၍ သာကေတ သို့ သွားသည်။\n"
     ]
    }
   ],
   "source": [
    "###################\n",
    "# import difflib module \n",
    "import difflib\n",
    "\n",
    "# making township names list\n",
    "with open(\"township_names.txt\", \"r\", encoding=\"utf-8\") as file: \n",
    "    township_list = file.read().splitlines()\n",
    "\n",
    "def correct_spelling(word):\n",
    "    if word in township_list:\n",
    "        return word  \n",
    "    closest_matches = difflib.get_close_matches(word, township_list, n=1, cutoff=0.7)\n",
    "    if closest_matches:\n",
    "        return closest_matches[0]  \n",
    "    else:\n",
    "        return word \n",
    "\n",
    "def correct_sentence(sentence):\n",
    "    words = sentence.split()\n",
    "    corrected_words = [correct_spelling(word) for word in words]\n",
    "    corrected_sentence = ' '.join(corrected_words)\n",
    "    return corrected_sentence\n",
    "\n",
    "input_sentence = input(\"Enter Text Line: \")\n",
    "corrected_sentence = correct_sentence(input_sentence)\n",
    "\n",
    "print(f\"Your Input: {input_sentence}\")\n",
    "print(f\"Corrected Output: {corrected_sentence}\")"
   ]
  },
  {
   "cell_type": "code",
   "execution_count": null,
   "id": "f6bf64cc",
   "metadata": {},
   "outputs": [],
   "source": []
  }
 ],
 "metadata": {
  "kernelspec": {
   "display_name": "Python 3 (ipykernel)",
   "language": "python",
   "name": "python3"
  },
  "language_info": {
   "codemirror_mode": {
    "name": "ipython",
    "version": 3
   },
   "file_extension": ".py",
   "mimetype": "text/x-python",
   "name": "python",
   "nbconvert_exporter": "python",
   "pygments_lexer": "ipython3",
   "version": "3.10.7"
  }
 },
 "nbformat": 4,
 "nbformat_minor": 5
}
